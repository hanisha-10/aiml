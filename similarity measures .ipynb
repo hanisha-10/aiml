{
 "cells": [
  {
   "cell_type": "code",
   "execution_count": 9,
   "id": "29ad33c5",
   "metadata": {},
   "outputs": [],
   "source": [
    "import numpy as np\n",
    "from scipy.spatial.distance import cosine, euclidean\n",
    "from scipy.stats import pearsonr"
   ]
  },
  {
   "cell_type": "code",
   "execution_count": 4,
   "id": "fe6de7fd",
   "metadata": {},
   "outputs": [],
   "source": [
    "#sample user rating data on a scale of 5\n",
    "user1 = np.array([4, 5, 2, 3, 4])\n",
    "user2 = np.array([5, 3, 2, 4, 5])"
   ]
  },
  {
   "cell_type": "code",
   "execution_count": 5,
   "id": "1670e75f",
   "metadata": {},
   "outputs": [
    {
     "name": "stdout",
     "output_type": "stream",
     "text": [
      "Cosine Similarity: 0.9548\n"
     ]
    }
   ],
   "source": [
    "#1.cosine similarity; (1 - cosine distance) gives similarity)\n",
    "cosine_similarity = 1 - cosine(user1, user2)\n",
    "print(f\"Cosine Similarity: {cosine_similarity:.4f}\")"
   ]
  },
  {
   "cell_type": "code",
   "execution_count": 6,
   "id": "3e5eaf0e",
   "metadata": {},
   "outputs": [
    {
     "name": "stdout",
     "output_type": "stream",
     "text": [
      "Pearson Correlation Similarity: 0.4372\n"
     ]
    }
   ],
   "source": [
    "#2. pearson correlation similarity which means correaltion coefficient\n",
    "pearson_corr,_ = pearsonr(user1, user2)\n",
    "print(f\"Pearson Correlation Similarity: {pearson_corr:.4f}\")\n"
   ]
  },
  {
   "cell_type": "code",
   "execution_count": 7,
   "id": "64b3afba",
   "metadata": {},
   "outputs": [
    {
     "name": "stdout",
     "output_type": "stream",
     "text": [
      "Euclidean Distance Similarity: 0.2743\n"
     ]
    }
   ],
   "source": [
    "#3. Euclidean Distance ismliarity \n",
    "euclidean_distance = euclidean(user1, user2)\n",
    "\n",
    "#Normalie to similiarity range(0,1)\n",
    "euclidean_similarity = 1 / (1 + euclidean_distance)\n",
    "print(f\"Euclidean Distance Similarity: {euclidean_similarity:.4f}\")\n"
   ]
  },
  {
   "cell_type": "code",
   "execution_count": 17,
   "id": "820c3884",
   "metadata": {},
   "outputs": [],
   "source": [
    "import numpy as np\n",
    "import pandas as pd\n",
    "from scipy.spatial.distance import cosine, euclidean\n",
    "from scipy.stats import pearsonr"
   ]
  },
  {
   "cell_type": "code",
   "execution_count": null,
   "id": "32118661",
   "metadata": {},
   "outputs": [],
   "source": [
    "#User - item rating matrix for 4 years\n",
    "ratings = np.array([\n",
    "    [5,3,4,4,2], #user A \n",
    "    [3,1,2,3,3], #user B\n",
    "    [4,3,4,5,1], #user c\n",
    "    [2,2,1,2,4] #user D \n",
    "    \n",
    "])"
   ]
  },
  {
   "cell_type": "code",
   "execution_count": 19,
   "id": "a784ed93",
   "metadata": {},
   "outputs": [
    {
     "ename": "NameError",
     "evalue": "name 'ratings' is not defined",
     "output_type": "error",
     "traceback": [
      "\u001b[1;31m---------------------------------------------------------------------------\u001b[0m",
      "\u001b[1;31mNameError\u001b[0m                                 Traceback (most recent call last)",
      "Cell \u001b[1;32mIn[19], line 2\u001b[0m\n\u001b[0;32m      1\u001b[0m users \u001b[38;5;241m=\u001b[39m [\u001b[38;5;124m\"\u001b[39m\u001b[38;5;124mRaju\u001b[39m\u001b[38;5;124m\"\u001b[39m, \u001b[38;5;124m\"\u001b[39m\u001b[38;5;124mJohn\u001b[39m\u001b[38;5;124m\"\u001b[39m, \u001b[38;5;124m\"\u001b[39m\u001b[38;5;124mRamya\u001b[39m\u001b[38;5;124m\"\u001b[39m,\u001b[38;5;124m\"\u001b[39m\u001b[38;5;124mKishore\u001b[39m\u001b[38;5;124m\"\u001b[39m]\n\u001b[1;32m----> 2\u001b[0m df \u001b[38;5;241m=\u001b[39m pd\u001b[38;5;241m.\u001b[39mDataFrame( ratings, index\u001b[38;5;241m=\u001b[39musers, columns\u001b[38;5;241m=\u001b[39m[\u001b[38;5;124m\"\u001b[39m\u001b[38;5;124mBahubali\u001b[39m\u001b[38;5;124m\"\u001b[39m, \u001b[38;5;124m\"\u001b[39m\u001b[38;5;124mMufasa\u001b[39m\u001b[38;5;124m\"\u001b[39m, \u001b[38;5;124m\"\u001b[39m\u001b[38;5;124mIntersteller \u001b[39m\u001b[38;5;124m\"\u001b[39m, \u001b[38;5;124m\"\u001b[39m\u001b[38;5;124mRRR\u001b[39m\u001b[38;5;124m\"\u001b[39m, \u001b[38;5;124m\"\u001b[39m\u001b[38;5;124mMRS\u001b[39m\u001b[38;5;124m\"\u001b[39m])\n\u001b[0;32m      3\u001b[0m df\n",
      "\u001b[1;31mNameError\u001b[0m: name 'ratings' is not defined"
     ]
    }
   ],
   "source": [
    "users = [\"Raju\", \"John\", \"Ramya\",\"Kishore\"]\n",
    "df = pd.DataFrame( ratings, index=users, columns=[\"Bahubali\", \"Mufasa\", \"Intersteller \", \"RRR\", \"MRS\"])\n",
    "df"
   ]
  },
  {
   "cell_type": "code",
   "execution_count": 20,
   "id": "1bda083d",
   "metadata": {},
   "outputs": [
    {
     "ename": "SyntaxError",
     "evalue": "invalid syntax (3521289683.py, line 3)",
     "output_type": "error",
     "traceback": [
      "\u001b[1;36m  Cell \u001b[1;32mIn[20], line 3\u001b[1;36m\u001b[0m\n\u001b[1;33m    num_userrs = df.shape(0):\u001b[0m\n\u001b[1;37m                            ^\u001b[0m\n\u001b[1;31mSyntaxError\u001b[0m\u001b[1;31m:\u001b[0m invalid syntax\n"
     ]
    }
   ],
   "source": [
    "#fucntion to compute similarity\n",
    "def compute_similarity(df):\n",
    "    num_userrs = df.shape(0):\n",
    "    similarity_results = []\n",
    "    \n",
    "    for i in rnage(i + 1, num_users): #aviod redundant pairs\n",
    "        user1, user2, = df.iloc[i], df.iloc[j]\n",
    "        \n",
    "        #cosine similarity\n",
    "        cos_sim = 1 - cosine(user1, user2)\n",
    "        \n",
    "        #pearson correlation similarity \n",
    "        pearson_sim, _= pearsonr(user1, user2)\n",
    "        \n",
    "        #euclidean distance similarity\n",
    "        euc_dist = euclidean(user1, user2)\n",
    "        euc_sim = 1 / (1 + euc_dist ) # normalie to [0,1]\n",
    "        "
   ]
  },
  {
   "cell_type": "code",
   "execution_count": 18,
   "id": "f161226b",
   "metadata": {},
   "outputs": [],
   "source": [
    "import pandas as pd\n",
    "import numpy as np\n",
    "Raju = np.array ([5,3,4,4,2])\n",
    "John = np.array([3,1,2,3,3])\n",
    "Ramya = np.array([4,3,4,5,1])\n",
    "Kishore= np.array([2,2,1,2,4])\n",
    "users = [\"Raju\",\"John\",\"\"]\n"
   ]
  },
  {
   "cell_type": "code",
   "execution_count": null,
   "id": "cca99cc1",
   "metadata": {},
   "outputs": [],
   "source": []
  },
  {
   "cell_type": "code",
   "execution_count": null,
   "id": "1082d347",
   "metadata": {},
   "outputs": [],
   "source": [
    "df = pd.DataFrame( ratings, index=users, columns=[\"Bahubali\", \"Mufasa\", \"Intersteller \", \"RRR\", \"MRS\"])\n",
    "df"
   ]
  }
 ],
 "metadata": {
  "kernelspec": {
   "display_name": "Python 3 (ipykernel)",
   "language": "python",
   "name": "python3"
  },
  "language_info": {
   "codemirror_mode": {
    "name": "ipython",
    "version": 3
   },
   "file_extension": ".py",
   "mimetype": "text/x-python",
   "name": "python",
   "nbconvert_exporter": "python",
   "pygments_lexer": "ipython3",
   "version": "3.11.4"
  }
 },
 "nbformat": 4,
 "nbformat_minor": 5
}
